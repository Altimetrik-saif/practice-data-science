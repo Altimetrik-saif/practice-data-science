{
 "cells": [
  {
   "cell_type": "markdown",
   "metadata": {},
   "source": [
    "### Python Asignments"
   ]
  },
  {
   "cell_type": "markdown",
   "metadata": {},
   "source": [
    "#### Solution 1.1"
   ]
  },
  {
   "cell_type": "code",
   "execution_count": null,
   "metadata": {},
   "outputs": [],
   "source": [
    "class triangle_sides():\n",
    "    def __init__(self):\n",
    "        self.getValues();\n",
    "        self.sideA = self.sidea;\n",
    "        self.sideB = self.sideb;\n",
    "        self.sideC = self.sidec;\n",
    "    \n",
    "    def getValues(self):\n",
    "        self.sidea = int(input(\"Enter length of side A : \"));\n",
    "        self.sideb = int(input(\"Enter length of side B : \"));\n",
    "        self.sidec = int(input(\"Enter length of side C : \"));\n",
    "    def __str__(self):\n",
    "        return \"{}, {}, {} are the sides of the triangle.\".format(self.sideA, self.sideB, self.sideC);"
   ]
  },
  {
   "cell_type": "code",
   "execution_count": null,
   "metadata": {},
   "outputs": [],
   "source": [
    "class calc_area(triangle_sides):\n",
    "    def __init__(self, *args):\n",
    "        super(calc_area, self).__init__(*args)\n",
    "        self.height = self.getheigth();\n",
    "    def getArea(self):\n",
    "        return self.height*(self.height-self.sideA)*(self.height-self.sideB)*(self.height-self.sideB)**0.5\n",
    "    \n",
    "    def getheigth(self):\n",
    "        return int(input(\"Enter heigth of triangle (s) : \")) \n",
    "        \n",
    "        "
   ]
  },
  {
   "cell_type": "code",
   "execution_count": null,
   "metadata": {},
   "outputs": [],
   "source": [
    "checkValue = calc_area()"
   ]
  },
  {
   "cell_type": "code",
   "execution_count": null,
   "metadata": {},
   "outputs": [],
   "source": [
    "checkValue.getArea()"
   ]
  },
  {
   "cell_type": "markdown",
   "metadata": {},
   "source": [
    "#### Solution 1.2"
   ]
  },
  {
   "cell_type": "code",
   "execution_count": null,
   "metadata": {},
   "outputs": [],
   "source": [
    "def filter_long_words(*str_lst):\n",
    "    fnl_arr = []\n",
    "    index = str_lst[len(str_lst)-1]\n",
    "    for value in range(len(str_lst)-1):\n",
    "        if(len(str_lst[value])>=index):\n",
    "            fnl_arr.append(str_lst[value])\n",
    "            \n",
    "    return fnl_arr"
   ]
  },
  {
   "cell_type": "code",
   "execution_count": null,
   "metadata": {},
   "outputs": [],
   "source": [
    "filter_long_words(\"Fist\", \"second\", \"third\", \"twenty Five\",\"Foutry\", 6)"
   ]
  },
  {
   "cell_type": "markdown",
   "metadata": {},
   "source": [
    "#### Solution 2.1"
   ]
  },
  {
   "cell_type": "code",
   "execution_count": null,
   "metadata": {},
   "outputs": [],
   "source": [
    "def str_len(*str_lst):\n",
    "    fnl_arr = []\n",
    "    for value in range(len(str_lst)):\n",
    "        fnl_arr.append(len(str_lst[value]))\n",
    "            \n",
    "    return fnl_arr"
   ]
  },
  {
   "cell_type": "code",
   "execution_count": null,
   "metadata": {},
   "outputs": [],
   "source": [
    "str_len(\"Fist\", \"second\", \"third\", \"twenty Five\",\"Foutry\")"
   ]
  },
  {
   "cell_type": "markdown",
   "metadata": {},
   "source": [
    "#### Solution 2.2"
   ]
  },
  {
   "cell_type": "code",
   "execution_count": null,
   "metadata": {},
   "outputs": [],
   "source": [
    "def check_vowel(chr):\n",
    "    if(chr==\"a\"or chr==\"e\" or chr==\"i\" or chr==\"o\" or chr==\"u\" or chr==\"A\" or chr==\"E\" or chr==\"I\" or chr==\"O\" or chr==\"U\"):\n",
    "        return True\n",
    "    return False"
   ]
  },
  {
   "cell_type": "code",
   "execution_count": null,
   "metadata": {},
   "outputs": [],
   "source": [
    "check_vowel(\"1\")"
   ]
  }
 ],
 "metadata": {
  "kernelspec": {
   "display_name": "Python 3",
   "language": "python",
   "name": "python3"
  },
  "language_info": {
   "codemirror_mode": {
    "name": "ipython",
    "version": 3
   },
   "file_extension": ".py",
   "mimetype": "text/x-python",
   "name": "python",
   "nbconvert_exporter": "python",
   "pygments_lexer": "ipython3",
   "version": "3.7.4"
  }
 },
 "nbformat": 4,
 "nbformat_minor": 2
}
