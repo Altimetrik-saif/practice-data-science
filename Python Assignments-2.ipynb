{
 "cells": [
  {
   "cell_type": "markdown",
   "metadata": {},
   "source": [
    "#### Solution 1"
   ]
  },
  {
   "cell_type": "code",
   "execution_count": 18,
   "metadata": {},
   "outputs": [
    {
     "name": "stdout",
     "output_type": "stream",
     "text": [
      "Enter a number5\n",
      "*\n",
      "**\n",
      "***\n",
      "****\n",
      "*****\n",
      "****\n",
      "***\n",
      "**\n",
      "*\n"
     ]
    }
   ],
   "source": [
    "value = int(input(\"Enter a number\"))\n",
    "\n",
    "for index in range(value):\n",
    "    for innerIndex in range(index+1):\n",
    "        print(\"*\",end=\"\")\n",
    "    print()\n",
    "for index in range(value,1,-1):\n",
    "    for innerIndex in range(index, 1, -1):\n",
    "        print(\"*\",end=\"\")\n",
    "    print()"
   ]
  },
  {
   "cell_type": "markdown",
   "metadata": {},
   "source": [
    "#### Solution 2"
   ]
  },
  {
   "cell_type": "code",
   "execution_count": 22,
   "metadata": {},
   "outputs": [
    {
     "name": "stdout",
     "output_type": "stream",
     "text": [
      "Enter the Stringsaif\n",
      "fias\n"
     ]
    }
   ],
   "source": [
    "string = str(input(\"Enter the String\"))\n",
    "rev_str=\"\"\n",
    "for index in range(len(string)-1, -1, -1):\n",
    "    rev_str=rev_str+string[index]\n",
    "print(rev_str)"
   ]
  }
 ],
 "metadata": {
  "kernelspec": {
   "display_name": "Python 3",
   "language": "python",
   "name": "python3"
  },
  "language_info": {
   "codemirror_mode": {
    "name": "ipython",
    "version": 3
   },
   "file_extension": ".py",
   "mimetype": "text/x-python",
   "name": "python",
   "nbconvert_exporter": "python",
   "pygments_lexer": "ipython3",
   "version": "3.7.4"
  }
 },
 "nbformat": 4,
 "nbformat_minor": 2
}
